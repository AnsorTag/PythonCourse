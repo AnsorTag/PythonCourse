{
 "cells": [
  {
   "cell_type": "markdown",
   "metadata": {},
   "source": [
    "## Timing decorator first try"
   ]
  },
  {
   "cell_type": "code",
   "execution_count": null,
   "metadata": {},
   "outputs": [],
   "source": [
    "from time import perf_counter\n",
    "\n",
    "\n",
    "def timing(n):\n",
    "\n",
    "    def decorator(func):\n",
    "        def wrapper(*args, **kwargs):\n",
    "            total_time = 0\n",
    "\n",
    "            for _ in range(n):\n",
    "                start = perf_counter()\n",
    "                result = func(*args, **kwargs)\n",
    "                end = perf_counter()\n",
    "                time_calculated = end - start\n",
    "                total_time += time_calculated\n",
    "                print(f\"duriation of the process: {time_calculated:.6f} seconds\")\n",
    "\n",
    "            avg_time = total_time / n\n",
    "            print(f\"Average duriation over {n} calculations: {avg_time:.6f} seconds\")\n",
    "            return result\n",
    "\n",
    "        return wrapper\n",
    "\n",
    "    return decorator\n",
    "\n",
    "\n",
    "@timing(5)\n",
    "def fibonaci_number(number):\n",
    "    def fibonacci(n):\n",
    "        if number < 3:\n",
    "            return 1\n",
    "        else:\n",
    "            return fibonacci(n - 1) + fibonacci(n - 2)\n",
    "\n",
    "    return fibonacci(number)\n",
    "\n",
    "\n",
    "f = fibonaci_number(10)\n",
    "print(f\"Fibonacci result: {f}\")"
   ]
  },
  {
   "cell_type": "markdown",
   "metadata": {},
   "source": [
    "## Timing decorator second try"
   ]
  },
  {
   "cell_type": "code",
   "execution_count": null,
   "metadata": {},
   "outputs": [],
   "source": [
    "from time import perf_counter\n",
    "from functools import lru_cache\n",
    "\n",
    "\n",
    "def timing(n):\n",
    "    def decorator(func):\n",
    "        def wrapper(*args, **kwargs):\n",
    "            total_time = 0\n",
    "            for _ in range(n):\n",
    "                start = perf_counter()\n",
    "                result = func(*args, **kwargs)\n",
    "                end = perf_counter()\n",
    "                time_calculated = end - start\n",
    "                total_time += time_calculated\n",
    "                print(f\"Duration of the process: {time_calculated:.6f} seconds\")\n",
    "            avg_time = total_time / n\n",
    "            print(f\"Average duration over {n} calculations: {avg_time:.6f} seconds\")\n",
    "            return result\n",
    "\n",
    "        return wrapper\n",
    "\n",
    "    return decorator\n",
    "\n",
    "\n",
    "@lru_cache(maxsize=None)\n",
    "def fibonacci(n):\n",
    "    if n < 3:\n",
    "        return 1\n",
    "    else:\n",
    "        return fibonacci(n - 1) + fibonacci(n - 2)\n",
    "\n",
    "\n",
    "@timing(20)\n",
    "def fibonacci_number(number):\n",
    "    return fibonacci(number)\n",
    "\n",
    "\n",
    "f = fibonacci_number(100)\n",
    "print(f\"Fibonacci result: {f}\")"
   ]
  },
  {
   "cell_type": "markdown",
   "metadata": {},
   "source": [
    "## Memoization"
   ]
  },
  {
   "cell_type": "code",
   "execution_count": 5,
   "metadata": {},
   "outputs": [],
   "source": [
    "def cacher(func):\n",
    "    cached_vals = {1: 1, 2: 1}\n",
    "\n",
    "    def wrapper(number):\n",
    "\n",
    "        if number in cached_vals:\n",
    "            return cached_vals[number]\n",
    "        else:\n",
    "            result = func(number)\n",
    "\n",
    "            print(f\"fibonacci of {number} = {result}\")\n",
    "\n",
    "            cached_vals[number] = result\n",
    "\n",
    "        return result\n",
    "\n",
    "    return wrapper\n",
    "\n",
    "\n",
    "@cacher\n",
    "def fibonacci(n):\n",
    "    if n < 3:\n",
    "        return 1\n",
    "    else:\n",
    "        return fibonacci(n - 1) + fibonacci(n - 2)"
   ]
  },
  {
   "cell_type": "markdown",
   "metadata": {},
   "source": [
    "#### Outputs ⬇"
   ]
  },
  {
   "cell_type": "code",
   "execution_count": 7,
   "metadata": {},
   "outputs": [
    {
     "name": "stdout",
     "output_type": "stream",
     "text": [
      "fibonacci of 3 = 2\n",
      "fibonacci of 4 = 3\n",
      "fibonacci of 5 = 5\n",
      "fibonacci of 6 = 8\n",
      "fibonacci of 7 = 13\n",
      "fibonacci of 8 = 21\n",
      "fibonacci of 9 = 34\n",
      "fibonacci of 10 = 55\n"
     ]
    },
    {
     "data": {
      "text/plain": [
       "55"
      ]
     },
     "execution_count": 7,
     "metadata": {},
     "output_type": "execute_result"
    }
   ],
   "source": [
    "fibonacci(10)"
   ]
  },
  {
   "cell_type": "code",
   "execution_count": 8,
   "metadata": {},
   "outputs": [
    {
     "name": "stdout",
     "output_type": "stream",
     "text": [
      "fibonacci of 11 = 89\n",
      "fibonacci of 12 = 144\n",
      "fibonacci of 13 = 233\n",
      "fibonacci of 14 = 377\n",
      "fibonacci of 15 = 610\n"
     ]
    },
    {
     "data": {
      "text/plain": [
       "610"
      ]
     },
     "execution_count": 8,
     "metadata": {},
     "output_type": "execute_result"
    }
   ],
   "source": [
    "fibonacci(15)"
   ]
  },
  {
   "cell_type": "code",
   "execution_count": 9,
   "metadata": {},
   "outputs": [
    {
     "data": {
      "text/plain": [
       "55"
      ]
     },
     "execution_count": 9,
     "metadata": {},
     "output_type": "execute_result"
    }
   ],
   "source": [
    "fibonacci(10)"
   ]
  },
  {
   "cell_type": "markdown",
   "metadata": {},
   "source": [
    "#### Outputs ⬆"
   ]
  },
  {
   "cell_type": "markdown",
   "metadata": {},
   "source": [
    "## Input Validation"
   ]
  },
  {
   "cell_type": "code",
   "execution_count": null,
   "metadata": {},
   "outputs": [],
   "source": []
  }
 ],
 "metadata": {
  "kernelspec": {
   "display_name": "Python 3",
   "language": "python",
   "name": "python3"
  },
  "language_info": {
   "codemirror_mode": {
    "name": "ipython",
    "version": 3
   },
   "file_extension": ".py",
   "mimetype": "text/x-python",
   "name": "python",
   "nbconvert_exporter": "python",
   "pygments_lexer": "ipython3",
   "version": "3.12.4"
  }
 },
 "nbformat": 4,
 "nbformat_minor": 2
}
