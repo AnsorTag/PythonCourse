{
 "cells": [
  {
   "cell_type": "code",
   "execution_count": 1,
   "metadata": {},
   "outputs": [],
   "source": [
    "import random"
   ]
  },
  {
   "cell_type": "code",
   "execution_count": 2,
   "metadata": {},
   "outputs": [],
   "source": [
    "l = [10, 20, 30, 40, 50]"
   ]
  },
  {
   "cell_type": "code",
   "execution_count": 52,
   "metadata": {},
   "outputs": [
    {
     "data": {
      "text/plain": [
       "30"
      ]
     },
     "execution_count": 52,
     "metadata": {},
     "output_type": "execute_result"
    }
   ],
   "source": [
    "random_index = random.randrange(len(l))\n",
    "l[random_index]"
   ]
  },
  {
   "cell_type": "code",
   "execution_count": 53,
   "metadata": {},
   "outputs": [],
   "source": [
    "l = list(range(300))"
   ]
  },
  {
   "cell_type": "code",
   "execution_count": 118,
   "metadata": {},
   "outputs": [
    {
     "name": "stdout",
     "output_type": "stream",
     "text": [
      "[284, 242, 232, 65, 8]\n"
     ]
    }
   ],
   "source": [
    "randoms = []\n",
    "\n",
    "for _ in range(5):\n",
    "    randoms.append(random.choice(l))\n",
    "    \n",
    "print(randoms)"
   ]
  },
  {
   "cell_type": "code",
   "execution_count": 172,
   "metadata": {},
   "outputs": [
    {
     "name": "stdout",
     "output_type": "stream",
     "text": [
      "[12, 48, 150, 134, 5]\n"
     ]
    }
   ],
   "source": [
    "randoms = [random.choice(l) for _ in range(5)]\n",
    "print(randoms)"
   ]
  },
  {
   "cell_type": "code",
   "execution_count": 206,
   "metadata": {},
   "outputs": [
    {
     "name": "stdout",
     "output_type": "stream",
     "text": [
      "[50, 289, 181, 137, 186]\n"
     ]
    }
   ],
   "source": [
    "randoms = random.choices(l, k = 5)\n",
    "print(randoms)"
   ]
  },
  {
   "cell_type": "code",
   "execution_count": 208,
   "metadata": {},
   "outputs": [
    {
     "name": "stdout",
     "output_type": "stream",
     "text": [
      "[1, 1, 2, 1, 1, 2, 4, 1, 4, 1]\n"
     ]
    }
   ],
   "source": [
    "l = [1, 2, 3, 4]\n",
    "\n",
    "randoms = [random.choice(l) for _ in range(10)]\n",
    "\n",
    "print(randoms)"
   ]
  },
  {
   "cell_type": "code",
   "execution_count": 222,
   "metadata": {},
   "outputs": [
    {
     "name": "stdout",
     "output_type": "stream",
     "text": [
      "[2, 2, 2, 2, 4, 1, 4, 4, 4, 1]\n"
     ]
    }
   ],
   "source": [
    "randoms = random.choices(l, k = 10)\n",
    "print(randoms)"
   ]
  },
  {
   "cell_type": "code",
   "execution_count": 223,
   "metadata": {},
   "outputs": [],
   "source": [
    "l = ['a', 'b', 'c']"
   ]
  },
  {
   "cell_type": "code",
   "execution_count": 224,
   "metadata": {},
   "outputs": [
    {
     "name": "stdout",
     "output_type": "stream",
     "text": [
      "['c', 'b', 'c', 'a', 'b']\n",
      "['a', 'b', 'c', 'c', 'c']\n",
      "['b', 'c', 'c', 'a', 'a']\n",
      "['b', 'b', 'b', 'b', 'a']\n",
      "['a', 'c', 'a', 'b', 'b']\n",
      "['b', 'b', 'b', 'b', 'c']\n",
      "['c', 'a', 'b', 'a', 'a']\n",
      "['c', 'c', 'a', 'c', 'b']\n",
      "['b', 'b', 'c', 'b', 'c']\n",
      "['c', 'c', 'a', 'a', 'a']\n"
     ]
    }
   ],
   "source": [
    "for _ in range(10):\n",
    "    print(random.choices(l, k = 5))"
   ]
  },
  {
   "cell_type": "code",
   "execution_count": 225,
   "metadata": {},
   "outputs": [],
   "source": [
    "weights = [10, 1, 1]"
   ]
  },
  {
   "cell_type": "code",
   "execution_count": 226,
   "metadata": {},
   "outputs": [
    {
     "name": "stdout",
     "output_type": "stream",
     "text": [
      "['a', 'c', 'a', 'a', 'a']\n",
      "['c', 'a', 'a', 'a', 'c']\n",
      "['a', 'a', 'a', 'a', 'c']\n",
      "['b', 'a', 'a', 'a', 'a']\n",
      "['a', 'a', 'a', 'a', 'c']\n",
      "['b', 'a', 'a', 'a', 'a']\n",
      "['a', 'b', 'a', 'b', 'a']\n",
      "['a', 'a', 'c', 'a', 'a']\n",
      "['a', 'a', 'a', 'a', 'a']\n",
      "['b', 'a', 'c', 'a', 'a']\n"
     ]
    }
   ],
   "source": [
    "for _ in range(10):\n",
    "    print(random.choices(l, k = 5, weights=weights))"
   ]
  },
  {
   "cell_type": "code",
   "execution_count": 227,
   "metadata": {},
   "outputs": [],
   "source": [
    "from collections import namedtuple\n",
    "\n",
    "Freq = namedtuple('Freq', 'count freq')"
   ]
  },
  {
   "cell_type": "code",
   "execution_count": 228,
   "metadata": {},
   "outputs": [],
   "source": [
    "def freq_counts(lst):\n",
    "    total = len(lst)\n",
    "    return {k: Freq(lst.count(k), 100 * lst.count(k) / total)\n",
    "                    for k in set(lst)}"
   ]
  },
  {
   "cell_type": "code",
   "execution_count": 260,
   "metadata": {},
   "outputs": [
    {
     "data": {
      "text/plain": [
       "{'c': Freq(count=353, freq=35.3),\n",
       " 'b': Freq(count=323, freq=32.3),\n",
       " 'a': Freq(count=324, freq=32.4)}"
      ]
     },
     "execution_count": 260,
     "metadata": {},
     "output_type": "execute_result"
    }
   ],
   "source": [
    "freq_counts(random.choices(l, k = 1000))"
   ]
  },
  {
   "cell_type": "code",
   "execution_count": 261,
   "metadata": {},
   "outputs": [],
   "source": [
    "weights = [8, 1, 1]"
   ]
  },
  {
   "cell_type": "code",
   "execution_count": 262,
   "metadata": {},
   "outputs": [
    {
     "data": {
      "text/plain": [
       "{'c': Freq(count=10000, freq=10.0),\n",
       " 'b': Freq(count=9951, freq=9.951),\n",
       " 'a': Freq(count=80049, freq=80.049)}"
      ]
     },
     "execution_count": 262,
     "metadata": {},
     "output_type": "execute_result"
    }
   ],
   "source": [
    "freq_counts(random.choices(l, k = 100_000, weights = weights))"
   ]
  },
  {
   "cell_type": "code",
   "execution_count": 263,
   "metadata": {},
   "outputs": [],
   "source": [
    "cum_weights = [7, 8, 9]"
   ]
  },
  {
   "cell_type": "code",
   "execution_count": 275,
   "metadata": {},
   "outputs": [
    {
     "data": {
      "text/plain": [
       "{'c': Freq(count=11126, freq=11.126),\n",
       " 'b': Freq(count=11259, freq=11.259),\n",
       " 'a': Freq(count=77615, freq=77.615)}"
      ]
     },
     "execution_count": 275,
     "metadata": {},
     "output_type": "execute_result"
    }
   ],
   "source": [
    "freq_counts(random.choices(l, k = 100_000, cum_weights = cum_weights))"
   ]
  },
  {
   "cell_type": "code",
   "execution_count": 276,
   "metadata": {},
   "outputs": [],
   "source": [
    "from time import perf_counter\n",
    "\n",
    "random.seed(0)"
   ]
  },
  {
   "cell_type": "code",
   "execution_count": 277,
   "metadata": {},
   "outputs": [],
   "source": [
    "denoms = random.choices([0, 1], k = 10_000_000)"
   ]
  },
  {
   "cell_type": "code",
   "execution_count": 279,
   "metadata": {},
   "outputs": [
    {
     "name": "stdout",
     "output_type": "stream",
     "text": [
      "Avg elapsed time: 0.000000220493310\n"
     ]
    }
   ],
   "source": [
    "start = perf_counter()\n",
    "\n",
    "for d in denoms:\n",
    "    if d == 0:\n",
    "        continue\n",
    "    else:\n",
    "        10 / d\n",
    "        \n",
    "end = perf_counter()\n",
    "\n",
    "print(f'Avf elapsed time: {(end - start) / len(denoms)}')"
   ]
  },
  {
   "cell_type": "code",
   "execution_count": 280,
   "metadata": {},
   "outputs": [],
   "source": [
    "random.seed(0)\n",
    "denoms = random.choices([0, 1], k = 10_000_000, weights=[1, 9])"
   ]
  },
  {
   "cell_type": "code",
   "execution_count": 281,
   "metadata": {},
   "outputs": [
    {
     "name": "stdout",
     "output_type": "stream",
     "text": [
      "Avg elapsed time: 9.642824000002293e-08\n"
     ]
    }
   ],
   "source": [
    "start = perf_counter()\n",
    "\n",
    "for d in denoms:\n",
    "    try:\n",
    "        10 / d\n",
    "    except ZeroDivisionError:\n",
    "        pass\n",
    "        \n",
    "end = perf_counter()\n",
    "\n",
    "print(f'Avg elapsed time: {(end - start) / len(denoms)}')"
   ]
  },
  {
   "cell_type": "code",
   "execution_count": 282,
   "metadata": {},
   "outputs": [
    {
     "name": "stdout",
     "output_type": "stream",
     "text": [
      "Avf elapsed time: 9.063770000002478e-08\n"
     ]
    }
   ],
   "source": [
    "start = perf_counter()\n",
    "\n",
    "for d in denoms:\n",
    "    if d == 0:\n",
    "        continue\n",
    "    else:\n",
    "        10 / d\n",
    "        \n",
    "end = perf_counter()\n",
    "\n",
    "print(f'Avf elapsed time: {(end - start) / len(denoms)}')"
   ]
  },
  {
   "cell_type": "code",
   "execution_count": null,
   "metadata": {},
   "outputs": [],
   "source": []
  }
 ],
 "metadata": {
  "kernelspec": {
   "display_name": "Python 3",
   "language": "python",
   "name": "python3"
  },
  "language_info": {
   "codemirror_mode": {
    "name": "ipython",
    "version": 3
   },
   "file_extension": ".py",
   "mimetype": "text/x-python",
   "name": "python",
   "nbconvert_exporter": "python",
   "pygments_lexer": "ipython3",
   "version": "3.12.4"
  }
 },
 "nbformat": 4,
 "nbformat_minor": 2
}
