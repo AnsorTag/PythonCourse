{
 "cells": [
  {
   "cell_type": "code",
   "execution_count": 1,
   "metadata": {},
   "outputs": [
    {
     "name": "stdout",
     "output_type": "stream",
     "text": [
      "a\n"
     ]
    }
   ],
   "source": [
    "print('a')"
   ]
  },
  {
   "cell_type": "code",
   "execution_count": 2,
   "metadata": {},
   "outputs": [],
   "source": [
    "import random"
   ]
  },
  {
   "cell_type": "code",
   "execution_count": 3,
   "metadata": {},
   "outputs": [
    {
     "data": {
      "text/plain": [
       "['a', 'c', 'b', 'c', 'b', 'b', 'c', 'b', 'a', 'a']"
      ]
     },
     "execution_count": 3,
     "metadata": {},
     "output_type": "execute_result"
    }
   ],
   "source": [
    "random.choices(list('abc'), k = 10)"
   ]
  },
  {
   "cell_type": "code",
   "execution_count": 4,
   "metadata": {},
   "outputs": [],
   "source": [
    "l = list(range(10))"
   ]
  },
  {
   "cell_type": "code",
   "execution_count": 5,
   "metadata": {},
   "outputs": [
    {
     "name": "stdout",
     "output_type": "stream",
     "text": [
      "[0, 1, 2, 3, 4, 5, 6, 7, 8, 9]\n"
     ]
    }
   ],
   "source": [
    "print(l)"
   ]
  },
  {
   "cell_type": "code",
   "execution_count": 7,
   "metadata": {},
   "outputs": [
    {
     "data": {
      "text/plain": [
       "[9, 7, 5, 2, 2]"
      ]
     },
     "execution_count": 7,
     "metadata": {},
     "output_type": "execute_result"
    }
   ],
   "source": [
    "random.choices(l, k = 5)"
   ]
  },
  {
   "cell_type": "code",
   "execution_count": 24,
   "metadata": {},
   "outputs": [
    {
     "data": {
      "text/plain": [
       "[6, 1, 0]"
      ]
     },
     "execution_count": 24,
     "metadata": {},
     "output_type": "execute_result"
    }
   ],
   "source": [
    "random.sample(l, k = 3)"
   ]
  },
  {
   "cell_type": "code",
   "execution_count": 25,
   "metadata": {},
   "outputs": [],
   "source": [
    "suits = 'C', 'D', 'H', 'S'\n",
    "ranks = tuple(range(2, 11)) + tuple('JQKA')"
   ]
  },
  {
   "cell_type": "code",
   "execution_count": 27,
   "metadata": {},
   "outputs": [
    {
     "data": {
      "text/plain": [
       "('C', 'D', 'H', 'S')"
      ]
     },
     "execution_count": 27,
     "metadata": {},
     "output_type": "execute_result"
    }
   ],
   "source": [
    "suits"
   ]
  },
  {
   "cell_type": "code",
   "execution_count": 28,
   "metadata": {},
   "outputs": [
    {
     "data": {
      "text/plain": [
       "(2, 3, 4, 5, 6, 7, 8, 9, 10, 'J', 'Q', 'K', 'A')"
      ]
     },
     "execution_count": 28,
     "metadata": {},
     "output_type": "execute_result"
    }
   ],
   "source": [
    "ranks"
   ]
  },
  {
   "cell_type": "code",
   "execution_count": 29,
   "metadata": {},
   "outputs": [],
   "source": [
    "deck = []\n",
    "\n",
    "for suit in suits:\n",
    "    for rank in ranks:\n",
    "        deck.append(str(rank) + suit)"
   ]
  },
  {
   "cell_type": "code",
   "execution_count": 30,
   "metadata": {},
   "outputs": [
    {
     "name": "stdout",
     "output_type": "stream",
     "text": [
      "['2C', '3C', '4C', '5C', '6C', '7C', '8C', '9C', '10C', 'JC', 'QC', 'KC', 'AC', '2D', '3D', '4D', '5D', '6D', '7D', '8D', '9D', '10D', 'JD', 'QD', 'KD', 'AD', '2H', '3H', '4H', '5H', '6H', '7H', '8H', '9H', '10H', 'JH', 'QH', 'KH', 'AH', '2S', '3S', '4S', '5S', '6S', '7S', '8S', '9S', '10S', 'JS', 'QS', 'KS', 'AS']\n"
     ]
    }
   ],
   "source": [
    "print(deck)"
   ]
  },
  {
   "cell_type": "code",
   "execution_count": 31,
   "metadata": {},
   "outputs": [],
   "source": [
    "deck = [str(rank) + suit for suit in suits for rank in ranks]"
   ]
  },
  {
   "cell_type": "code",
   "execution_count": 33,
   "metadata": {},
   "outputs": [],
   "source": [
    "from collections import Counter"
   ]
  },
  {
   "cell_type": "code",
   "execution_count": 34,
   "metadata": {},
   "outputs": [
    {
     "data": {
      "text/plain": [
       "Counter({'3D': 3,\n",
       "         '2C': 2,\n",
       "         '4D': 2,\n",
       "         '7S': 2,\n",
       "         '8D': 2,\n",
       "         '6H': 2,\n",
       "         '8S': 2,\n",
       "         '2S': 1,\n",
       "         'JC': 1,\n",
       "         '3H': 1,\n",
       "         '8C': 1,\n",
       "         'KH': 1,\n",
       "         '4S': 1,\n",
       "         'JD': 1,\n",
       "         'AS': 1,\n",
       "         'JH': 1,\n",
       "         'QC': 1,\n",
       "         '4H': 1,\n",
       "         '10H': 1,\n",
       "         '9D': 1,\n",
       "         '6C': 1,\n",
       "         'QH': 1,\n",
       "         '3S': 1,\n",
       "         '4C': 1,\n",
       "         'KD': 1,\n",
       "         '7C': 1,\n",
       "         'KS': 1,\n",
       "         '3C': 1,\n",
       "         '5C': 1,\n",
       "         '9H': 1,\n",
       "         '2H': 1,\n",
       "         'KC': 1})"
      ]
     },
     "execution_count": 34,
     "metadata": {},
     "output_type": "execute_result"
    }
   ],
   "source": [
    "Counter(random.choices(deck, k = 40))"
   ]
  },
  {
   "cell_type": "code",
   "execution_count": 37,
   "metadata": {},
   "outputs": [
    {
     "data": {
      "text/plain": [
       "Counter({'QH': 1,\n",
       "         'AC': 1,\n",
       "         '8C': 1,\n",
       "         '5D': 1,\n",
       "         '2D': 1,\n",
       "         'JD': 1,\n",
       "         '5S': 1,\n",
       "         '8H': 1,\n",
       "         '10H': 1,\n",
       "         'KD': 1,\n",
       "         'QS': 1,\n",
       "         '9H': 1,\n",
       "         '9S': 1,\n",
       "         '10S': 1,\n",
       "         '3C': 1,\n",
       "         'AD': 1,\n",
       "         '3D': 1,\n",
       "         'JC': 1,\n",
       "         '3H': 1,\n",
       "         '8D': 1,\n",
       "         '2H': 1,\n",
       "         'AH': 1,\n",
       "         '4C': 1,\n",
       "         '7C': 1,\n",
       "         'JS': 1,\n",
       "         '10C': 1,\n",
       "         '7H': 1,\n",
       "         '5H': 1,\n",
       "         '10D': 1,\n",
       "         '6D': 1,\n",
       "         '6S': 1,\n",
       "         '4S': 1,\n",
       "         '2S': 1,\n",
       "         '6C': 1,\n",
       "         'QD': 1,\n",
       "         'KS': 1,\n",
       "         '9D': 1,\n",
       "         '4H': 1,\n",
       "         'QC': 1,\n",
       "         '7S': 1})"
      ]
     },
     "execution_count": 37,
     "metadata": {},
     "output_type": "execute_result"
    }
   ],
   "source": [
    "Counter(random.sample(deck, k = 40))"
   ]
  },
  {
   "cell_type": "code",
   "execution_count": null,
   "metadata": {},
   "outputs": [],
   "source": []
  }
 ],
 "metadata": {
  "kernelspec": {
   "display_name": "Python 3",
   "language": "python",
   "name": "python3"
  },
  "language_info": {
   "codemirror_mode": {
    "name": "ipython",
    "version": 3
   },
   "file_extension": ".py",
   "mimetype": "text/x-python",
   "name": "python",
   "nbconvert_exporter": "python",
   "pygments_lexer": "ipython3",
   "version": "3.12.4"
  }
 },
 "nbformat": 4,
 "nbformat_minor": 2
}
