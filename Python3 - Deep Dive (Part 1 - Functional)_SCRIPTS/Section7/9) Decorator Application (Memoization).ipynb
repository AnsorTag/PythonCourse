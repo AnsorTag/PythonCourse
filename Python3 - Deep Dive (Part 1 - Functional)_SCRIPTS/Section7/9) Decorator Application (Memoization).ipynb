{
 "cells": [
  {
   "cell_type": "code",
   "execution_count": 1,
   "metadata": {},
   "outputs": [
    {
     "name": "stdout",
     "output_type": "stream",
     "text": [
      "a\n"
     ]
    }
   ],
   "source": [
    "print('a')"
   ]
  },
  {
   "cell_type": "code",
   "execution_count": 4,
   "metadata": {},
   "outputs": [],
   "source": [
    "def fib(n):\n",
    "    print(f'Calculating fib({n})')\n",
    "    return 1 if n < 3 else fib(n - 1) + fib(n - 2)"
   ]
  },
  {
   "cell_type": "code",
   "execution_count": 5,
   "metadata": {},
   "outputs": [
    {
     "name": "stdout",
     "output_type": "stream",
     "text": [
      "Calculating fib(10)\n",
      "Calculating fib(9)\n",
      "Calculating fib(8)\n",
      "Calculating fib(7)\n",
      "Calculating fib(6)\n",
      "Calculating fib(5)\n",
      "Calculating fib(4)\n",
      "Calculating fib(3)\n",
      "Calculating fib(2)\n",
      "Calculating fib(1)\n",
      "Calculating fib(2)\n",
      "Calculating fib(3)\n",
      "Calculating fib(2)\n",
      "Calculating fib(1)\n",
      "Calculating fib(4)\n",
      "Calculating fib(3)\n",
      "Calculating fib(2)\n",
      "Calculating fib(1)\n",
      "Calculating fib(2)\n",
      "Calculating fib(5)\n",
      "Calculating fib(4)\n",
      "Calculating fib(3)\n",
      "Calculating fib(2)\n",
      "Calculating fib(1)\n",
      "Calculating fib(2)\n",
      "Calculating fib(3)\n",
      "Calculating fib(2)\n",
      "Calculating fib(1)\n",
      "Calculating fib(6)\n",
      "Calculating fib(5)\n",
      "Calculating fib(4)\n",
      "Calculating fib(3)\n",
      "Calculating fib(2)\n",
      "Calculating fib(1)\n",
      "Calculating fib(2)\n",
      "Calculating fib(3)\n",
      "Calculating fib(2)\n",
      "Calculating fib(1)\n",
      "Calculating fib(4)\n",
      "Calculating fib(3)\n",
      "Calculating fib(2)\n",
      "Calculating fib(1)\n",
      "Calculating fib(2)\n",
      "Calculating fib(7)\n",
      "Calculating fib(6)\n",
      "Calculating fib(5)\n",
      "Calculating fib(4)\n",
      "Calculating fib(3)\n",
      "Calculating fib(2)\n",
      "Calculating fib(1)\n",
      "Calculating fib(2)\n",
      "Calculating fib(3)\n",
      "Calculating fib(2)\n",
      "Calculating fib(1)\n",
      "Calculating fib(4)\n",
      "Calculating fib(3)\n",
      "Calculating fib(2)\n",
      "Calculating fib(1)\n",
      "Calculating fib(2)\n",
      "Calculating fib(5)\n",
      "Calculating fib(4)\n",
      "Calculating fib(3)\n",
      "Calculating fib(2)\n",
      "Calculating fib(1)\n",
      "Calculating fib(2)\n",
      "Calculating fib(3)\n",
      "Calculating fib(2)\n",
      "Calculating fib(1)\n",
      "Calculating fib(8)\n",
      "Calculating fib(7)\n",
      "Calculating fib(6)\n",
      "Calculating fib(5)\n",
      "Calculating fib(4)\n",
      "Calculating fib(3)\n",
      "Calculating fib(2)\n",
      "Calculating fib(1)\n",
      "Calculating fib(2)\n",
      "Calculating fib(3)\n",
      "Calculating fib(2)\n",
      "Calculating fib(1)\n",
      "Calculating fib(4)\n",
      "Calculating fib(3)\n",
      "Calculating fib(2)\n",
      "Calculating fib(1)\n",
      "Calculating fib(2)\n",
      "Calculating fib(5)\n",
      "Calculating fib(4)\n",
      "Calculating fib(3)\n",
      "Calculating fib(2)\n",
      "Calculating fib(1)\n",
      "Calculating fib(2)\n",
      "Calculating fib(3)\n",
      "Calculating fib(2)\n",
      "Calculating fib(1)\n",
      "Calculating fib(6)\n",
      "Calculating fib(5)\n",
      "Calculating fib(4)\n",
      "Calculating fib(3)\n",
      "Calculating fib(2)\n",
      "Calculating fib(1)\n",
      "Calculating fib(2)\n",
      "Calculating fib(3)\n",
      "Calculating fib(2)\n",
      "Calculating fib(1)\n",
      "Calculating fib(4)\n",
      "Calculating fib(3)\n",
      "Calculating fib(2)\n",
      "Calculating fib(1)\n",
      "Calculating fib(2)\n"
     ]
    },
    {
     "data": {
      "text/plain": [
       "55"
      ]
     },
     "execution_count": 5,
     "metadata": {},
     "output_type": "execute_result"
    }
   ],
   "source": [
    "fib(10)"
   ]
  },
  {
   "cell_type": "code",
   "execution_count": 9,
   "metadata": {},
   "outputs": [],
   "source": [
    "class Fib:\n",
    "    def __init__(self) -> None:\n",
    "        self.cache = {1: 1, 2: 1}\n",
    "        \n",
    "    def fib(self, n):\n",
    "        if n not in self.cache:\n",
    "            print(f'Calculating fib({n})')\n",
    "            self.cache[n] = self.fib(n - 1) + self.fib(n - 2)\n",
    "        \n",
    "        return self.cache[n]"
   ]
  },
  {
   "cell_type": "code",
   "execution_count": 10,
   "metadata": {},
   "outputs": [],
   "source": [
    "f = Fib()"
   ]
  },
  {
   "cell_type": "code",
   "execution_count": 11,
   "metadata": {},
   "outputs": [
    {
     "name": "stdout",
     "output_type": "stream",
     "text": [
      "Calculating fib(10)\n",
      "Calculating fib(9)\n",
      "Calculating fib(8)\n",
      "Calculating fib(7)\n",
      "Calculating fib(6)\n",
      "Calculating fib(5)\n",
      "Calculating fib(4)\n",
      "Calculating fib(3)\n"
     ]
    },
    {
     "data": {
      "text/plain": [
       "55"
      ]
     },
     "execution_count": 11,
     "metadata": {},
     "output_type": "execute_result"
    }
   ],
   "source": [
    "f.fib(10)"
   ]
  },
  {
   "cell_type": "code",
   "execution_count": 15,
   "metadata": {},
   "outputs": [],
   "source": [
    "def fib():\n",
    "    cache = {1: 1, 2: 1}\n",
    "    \n",
    "    def cacl_fib(n):\n",
    "        if n not in cache:\n",
    "            print(f'Calculating fib({n})')\n",
    "            cache[n] = cacl_fib(n - 1) + cacl_fib(n - 2)\n",
    "        return cache[n]\n",
    "    \n",
    "    return cacl_fib"
   ]
  },
  {
   "cell_type": "code",
   "execution_count": 16,
   "metadata": {},
   "outputs": [],
   "source": [
    "f = fib()"
   ]
  },
  {
   "cell_type": "code",
   "execution_count": 17,
   "metadata": {},
   "outputs": [
    {
     "name": "stdout",
     "output_type": "stream",
     "text": [
      "Calculating fib(10)\n",
      "Calculating fib(9)\n",
      "Calculating fib(8)\n",
      "Calculating fib(7)\n",
      "Calculating fib(6)\n",
      "Calculating fib(5)\n",
      "Calculating fib(4)\n",
      "Calculating fib(3)\n"
     ]
    },
    {
     "data": {
      "text/plain": [
       "55"
      ]
     },
     "execution_count": 17,
     "metadata": {},
     "output_type": "execute_result"
    }
   ],
   "source": [
    "f(10)"
   ]
  },
  {
   "cell_type": "code",
   "execution_count": 18,
   "metadata": {},
   "outputs": [],
   "source": [
    "g = Fib()"
   ]
  },
  {
   "cell_type": "code",
   "execution_count": 19,
   "metadata": {},
   "outputs": [
    {
     "name": "stdout",
     "output_type": "stream",
     "text": [
      "Calculating fib(10)\n",
      "Calculating fib(9)\n",
      "Calculating fib(8)\n",
      "Calculating fib(7)\n",
      "Calculating fib(6)\n",
      "Calculating fib(5)\n",
      "Calculating fib(4)\n",
      "Calculating fib(3)\n"
     ]
    },
    {
     "data": {
      "text/plain": [
       "55"
      ]
     },
     "execution_count": 19,
     "metadata": {},
     "output_type": "execute_result"
    }
   ],
   "source": [
    "g.fib(10)"
   ]
  },
  {
   "cell_type": "code",
   "execution_count": 20,
   "metadata": {},
   "outputs": [],
   "source": [
    "g = fib()"
   ]
  },
  {
   "cell_type": "code",
   "execution_count": 21,
   "metadata": {},
   "outputs": [
    {
     "name": "stdout",
     "output_type": "stream",
     "text": [
      "Calculating fib(10)\n",
      "Calculating fib(9)\n",
      "Calculating fib(8)\n",
      "Calculating fib(7)\n",
      "Calculating fib(6)\n",
      "Calculating fib(5)\n",
      "Calculating fib(4)\n",
      "Calculating fib(3)\n"
     ]
    },
    {
     "data": {
      "text/plain": [
       "55"
      ]
     },
     "execution_count": 21,
     "metadata": {},
     "output_type": "execute_result"
    }
   ],
   "source": [
    "g(10)"
   ]
  },
  {
   "cell_type": "code",
   "execution_count": 22,
   "metadata": {},
   "outputs": [],
   "source": [
    "def memoize_fib(fib):\n",
    "    cache = {1: 1, 2: 1}\n",
    "    \n",
    "    def inner(n):\n",
    "        if n not in cache:\n",
    "            cache[n] = fib(n)\n",
    "        return cache[n]\n",
    "    \n",
    "    return inner"
   ]
  },
  {
   "cell_type": "code",
   "execution_count": 24,
   "metadata": {},
   "outputs": [],
   "source": [
    "@memoize_fib\n",
    "def fib(n):\n",
    "    print(f'Calculating fib({n})')\n",
    "    return 1 if n < 3 else fib(n - 1) + fib(n - 2)"
   ]
  },
  {
   "cell_type": "code",
   "execution_count": 25,
   "metadata": {},
   "outputs": [
    {
     "name": "stdout",
     "output_type": "stream",
     "text": [
      "Calculating fib(10)\n",
      "Calculating fib(9)\n",
      "Calculating fib(8)\n",
      "Calculating fib(7)\n",
      "Calculating fib(6)\n",
      "Calculating fib(5)\n",
      "Calculating fib(4)\n",
      "Calculating fib(3)\n"
     ]
    },
    {
     "data": {
      "text/plain": [
       "55"
      ]
     },
     "execution_count": 25,
     "metadata": {},
     "output_type": "execute_result"
    }
   ],
   "source": [
    "fib(10)"
   ]
  },
  {
   "cell_type": "code",
   "execution_count": 26,
   "metadata": {},
   "outputs": [
    {
     "data": {
      "text/plain": [
       "55"
      ]
     },
     "execution_count": 26,
     "metadata": {},
     "output_type": "execute_result"
    }
   ],
   "source": [
    "fib(10)"
   ]
  },
  {
   "cell_type": "code",
   "execution_count": 27,
   "metadata": {},
   "outputs": [
    {
     "name": "stdout",
     "output_type": "stream",
     "text": [
      "Calculating fib(15)\n",
      "Calculating fib(14)\n",
      "Calculating fib(13)\n",
      "Calculating fib(12)\n",
      "Calculating fib(11)\n"
     ]
    },
    {
     "data": {
      "text/plain": [
       "610"
      ]
     },
     "execution_count": 27,
     "metadata": {},
     "output_type": "execute_result"
    }
   ],
   "source": [
    "fib(15)"
   ]
  },
  {
   "cell_type": "code",
   "execution_count": 28,
   "metadata": {},
   "outputs": [],
   "source": [
    "def memoize(fn):\n",
    "    cache = dict()\n",
    "    \n",
    "    \n",
    "    def inner(n):\n",
    "        if n not in cache:\n",
    "            cache[n] = fn(n)\n",
    "        return cache[n]\n",
    "    \n",
    "    return inner"
   ]
  },
  {
   "cell_type": "code",
   "execution_count": 29,
   "metadata": {},
   "outputs": [],
   "source": [
    "@memoize\n",
    "def fib(n):\n",
    "    print(f'Calculating fib({n})')\n",
    "    return 1 if n < 3 else fib(n - 1) + fib(n - 2)"
   ]
  },
  {
   "cell_type": "code",
   "execution_count": 30,
   "metadata": {},
   "outputs": [
    {
     "name": "stdout",
     "output_type": "stream",
     "text": [
      "Calculating fib(10)\n",
      "Calculating fib(9)\n",
      "Calculating fib(8)\n",
      "Calculating fib(7)\n",
      "Calculating fib(6)\n",
      "Calculating fib(5)\n",
      "Calculating fib(4)\n",
      "Calculating fib(3)\n",
      "Calculating fib(2)\n",
      "Calculating fib(1)\n"
     ]
    },
    {
     "data": {
      "text/plain": [
       "55"
      ]
     },
     "execution_count": 30,
     "metadata": {},
     "output_type": "execute_result"
    }
   ],
   "source": [
    "fib(10)"
   ]
  },
  {
   "cell_type": "code",
   "execution_count": 31,
   "metadata": {},
   "outputs": [
    {
     "data": {
      "text/plain": [
       "55"
      ]
     },
     "execution_count": 31,
     "metadata": {},
     "output_type": "execute_result"
    }
   ],
   "source": [
    "fib(10)"
   ]
  },
  {
   "cell_type": "code",
   "execution_count": 32,
   "metadata": {},
   "outputs": [
    {
     "name": "stdout",
     "output_type": "stream",
     "text": [
      "Calculating fib(15)\n",
      "Calculating fib(14)\n",
      "Calculating fib(13)\n",
      "Calculating fib(12)\n",
      "Calculating fib(11)\n"
     ]
    },
    {
     "data": {
      "text/plain": [
       "610"
      ]
     },
     "execution_count": 32,
     "metadata": {},
     "output_type": "execute_result"
    }
   ],
   "source": [
    "fib(15)"
   ]
  },
  {
   "cell_type": "code",
   "execution_count": 35,
   "metadata": {},
   "outputs": [],
   "source": [
    "@memoize\n",
    "def fact(n):\n",
    "    print(f'Calculating {n}!')\n",
    "    return 1 if n < 2 else n * fact(n - 1)"
   ]
  },
  {
   "cell_type": "code",
   "execution_count": 36,
   "metadata": {},
   "outputs": [
    {
     "name": "stdout",
     "output_type": "stream",
     "text": [
      "Calculating 6!\n",
      "Calculating 5!\n",
      "Calculating 4!\n",
      "Calculating 3!\n",
      "Calculating 2!\n",
      "Calculating 1!\n"
     ]
    },
    {
     "data": {
      "text/plain": [
       "720"
      ]
     },
     "execution_count": 36,
     "metadata": {},
     "output_type": "execute_result"
    }
   ],
   "source": [
    "fact(6)"
   ]
  },
  {
   "cell_type": "code",
   "execution_count": 37,
   "metadata": {},
   "outputs": [
    {
     "name": "stdout",
     "output_type": "stream",
     "text": [
      "Calculating 10!\n",
      "Calculating 9!\n",
      "Calculating 8!\n",
      "Calculating 7!\n"
     ]
    },
    {
     "data": {
      "text/plain": [
       "3628800"
      ]
     },
     "execution_count": 37,
     "metadata": {},
     "output_type": "execute_result"
    }
   ],
   "source": [
    "fact(10)"
   ]
  },
  {
   "cell_type": "code",
   "execution_count": 38,
   "metadata": {},
   "outputs": [
    {
     "name": "stdout",
     "output_type": "stream",
     "text": [
      "Calculating 15!\n",
      "Calculating 14!\n",
      "Calculating 13!\n",
      "Calculating 12!\n",
      "Calculating 11!\n"
     ]
    },
    {
     "data": {
      "text/plain": [
       "1307674368000"
      ]
     },
     "execution_count": 38,
     "metadata": {},
     "output_type": "execute_result"
    }
   ],
   "source": [
    "fact(15)"
   ]
  },
  {
   "cell_type": "code",
   "execution_count": 39,
   "metadata": {},
   "outputs": [
    {
     "data": {
      "text/plain": [
       "6227020800"
      ]
     },
     "execution_count": 39,
     "metadata": {},
     "output_type": "execute_result"
    }
   ],
   "source": [
    "fact(13)"
   ]
  },
  {
   "cell_type": "code",
   "execution_count": 40,
   "metadata": {},
   "outputs": [],
   "source": [
    "@memoize\n",
    "def fib(n):\n",
    "    print(f'Calculating fib({n})')\n",
    "    return 1 if n < 3 else fib(n - 1) + fib(n - 2)"
   ]
  },
  {
   "cell_type": "code",
   "execution_count": 48,
   "metadata": {},
   "outputs": [
    {
     "name": "stdout",
     "output_type": "stream",
     "text": [
      "Calculating fib(200)\n",
      "Calculating fib(199)\n",
      "Calculating fib(198)\n",
      "Calculating fib(197)\n",
      "Calculating fib(196)\n",
      "Calculating fib(195)\n",
      "Calculating fib(194)\n",
      "Calculating fib(193)\n",
      "Calculating fib(192)\n",
      "Calculating fib(191)\n",
      "Calculating fib(190)\n",
      "Calculating fib(189)\n",
      "Calculating fib(188)\n",
      "Calculating fib(187)\n",
      "Calculating fib(186)\n",
      "Calculating fib(185)\n",
      "Calculating fib(184)\n",
      "Calculating fib(183)\n",
      "Calculating fib(182)\n",
      "Calculating fib(181)\n",
      "Calculating fib(180)\n",
      "Calculating fib(179)\n",
      "Calculating fib(178)\n",
      "Calculating fib(177)\n",
      "Calculating fib(176)\n",
      "Calculating fib(175)\n",
      "Calculating fib(174)\n",
      "Calculating fib(173)\n",
      "Calculating fib(172)\n",
      "Calculating fib(171)\n",
      "Calculating fib(170)\n",
      "Calculating fib(169)\n",
      "Calculating fib(168)\n",
      "Calculating fib(167)\n",
      "Calculating fib(166)\n",
      "Calculating fib(165)\n",
      "Calculating fib(164)\n",
      "Calculating fib(163)\n",
      "Calculating fib(162)\n",
      "Calculating fib(161)\n",
      "Calculating fib(160)\n",
      "Calculating fib(159)\n",
      "Calculating fib(158)\n",
      "Calculating fib(157)\n",
      "Calculating fib(156)\n",
      "Calculating fib(155)\n",
      "Calculating fib(154)\n",
      "Calculating fib(153)\n",
      "Calculating fib(152)\n",
      "Calculating fib(151)\n",
      "Calculating fib(150)\n",
      "Calculating fib(149)\n",
      "Calculating fib(148)\n",
      "Calculating fib(147)\n",
      "Calculating fib(146)\n",
      "Calculating fib(145)\n",
      "Calculating fib(144)\n",
      "Calculating fib(143)\n",
      "Calculating fib(142)\n",
      "Calculating fib(141)\n",
      "Calculating fib(140)\n",
      "Calculating fib(139)\n",
      "Calculating fib(138)\n",
      "Calculating fib(137)\n",
      "Calculating fib(136)\n",
      "Calculating fib(135)\n",
      "Calculating fib(134)\n",
      "Calculating fib(133)\n",
      "Calculating fib(132)\n",
      "Calculating fib(131)\n",
      "Calculating fib(130)\n",
      "Calculating fib(129)\n",
      "Calculating fib(128)\n",
      "Calculating fib(127)\n",
      "Calculating fib(126)\n",
      "Calculating fib(125)\n",
      "Calculating fib(124)\n",
      "Calculating fib(123)\n",
      "Calculating fib(122)\n",
      "Calculating fib(121)\n",
      "Calculating fib(120)\n",
      "Calculating fib(119)\n",
      "Calculating fib(118)\n",
      "Calculating fib(117)\n",
      "Calculating fib(116)\n",
      "Calculating fib(115)\n",
      "Calculating fib(114)\n",
      "Calculating fib(113)\n",
      "Calculating fib(112)\n",
      "Calculating fib(111)\n",
      "Calculating fib(110)\n",
      "Calculating fib(109)\n",
      "Calculating fib(108)\n",
      "Calculating fib(107)\n",
      "Calculating fib(106)\n",
      "Calculating fib(105)\n",
      "Calculating fib(104)\n",
      "Calculating fib(103)\n",
      "Calculating fib(102)\n",
      "Calculating fib(101)\n",
      "Calculating fib(100)\n",
      "Calculating fib(99)\n",
      "Calculating fib(98)\n",
      "Calculating fib(97)\n",
      "Calculating fib(96)\n",
      "Calculating fib(95)\n",
      "Calculating fib(94)\n",
      "Calculating fib(93)\n",
      "Calculating fib(92)\n",
      "Calculating fib(91)\n",
      "Calculating fib(90)\n",
      "Calculating fib(89)\n",
      "Calculating fib(88)\n",
      "Calculating fib(87)\n",
      "Calculating fib(86)\n",
      "Calculating fib(85)\n",
      "Calculating fib(84)\n",
      "Calculating fib(83)\n",
      "Calculating fib(82)\n",
      "Calculating fib(81)\n",
      "Calculating fib(80)\n",
      "Calculating fib(79)\n",
      "Calculating fib(78)\n",
      "Calculating fib(77)\n",
      "Calculating fib(76)\n",
      "Calculating fib(75)\n",
      "Calculating fib(74)\n",
      "Calculating fib(73)\n",
      "Calculating fib(72)\n",
      "Calculating fib(71)\n",
      "Calculating fib(70)\n",
      "Calculating fib(69)\n",
      "Calculating fib(68)\n",
      "Calculating fib(67)\n",
      "Calculating fib(66)\n",
      "Calculating fib(65)\n",
      "Calculating fib(64)\n",
      "Calculating fib(63)\n",
      "Calculating fib(62)\n",
      "Calculating fib(61)\n",
      "Calculating fib(60)\n",
      "Calculating fib(59)\n",
      "Calculating fib(58)\n",
      "Calculating fib(57)\n",
      "Calculating fib(56)\n",
      "Calculating fib(55)\n",
      "Calculating fib(54)\n",
      "Calculating fib(53)\n",
      "Calculating fib(52)\n",
      "Calculating fib(51)\n",
      "Calculating fib(50)\n",
      "Calculating fib(49)\n",
      "Calculating fib(48)\n",
      "Calculating fib(47)\n",
      "Calculating fib(46)\n",
      "Calculating fib(45)\n",
      "Calculating fib(44)\n",
      "Calculating fib(43)\n",
      "Calculating fib(42)\n",
      "Calculating fib(41)\n",
      "Calculating fib(40)\n",
      "Calculating fib(39)\n",
      "Calculating fib(38)\n",
      "Calculating fib(37)\n",
      "Calculating fib(36)\n",
      "280571172992510140037611932413038677189525\n",
      " 0.001677\n"
     ]
    }
   ],
   "source": [
    "from time import perf_counter\n",
    "\n",
    "start = perf_counter()\n",
    "print(fib(200))\n",
    "end = perf_counter()\n",
    "elapsed = end - start\n",
    "\n",
    "print(f'{elapsed: .6f}')"
   ]
  },
  {
   "cell_type": "code",
   "execution_count": 49,
   "metadata": {},
   "outputs": [
    {
     "name": "stdout",
     "output_type": "stream",
     "text": [
      "280571172992510140037611932413038677189525\n",
      " 0.000623\n"
     ]
    }
   ],
   "source": [
    "start = perf_counter()\n",
    "print(fib(200))\n",
    "end = perf_counter()\n",
    "elapsed = end - start\n",
    "\n",
    "print(f'{elapsed: .6f}')"
   ]
  },
  {
   "cell_type": "code",
   "execution_count": 50,
   "metadata": {},
   "outputs": [],
   "source": [
    "from functools import lru_cache"
   ]
  },
  {
   "cell_type": "code",
   "execution_count": 53,
   "metadata": {},
   "outputs": [],
   "source": [
    "@lru_cache()\n",
    "def fib(n):\n",
    "    print(f'Calculating fib({n})')\n",
    "    return 1 if n < 3 else fib(n - 1) + fib(n - 2)"
   ]
  },
  {
   "cell_type": "code",
   "execution_count": 54,
   "metadata": {},
   "outputs": [
    {
     "name": "stdout",
     "output_type": "stream",
     "text": [
      "Calculating fib(10)\n",
      "Calculating fib(9)\n",
      "Calculating fib(8)\n",
      "Calculating fib(7)\n",
      "Calculating fib(6)\n",
      "Calculating fib(5)\n",
      "Calculating fib(4)\n",
      "Calculating fib(3)\n",
      "Calculating fib(2)\n",
      "Calculating fib(1)\n"
     ]
    },
    {
     "data": {
      "text/plain": [
       "55"
      ]
     },
     "execution_count": 54,
     "metadata": {},
     "output_type": "execute_result"
    }
   ],
   "source": [
    "fib(10)"
   ]
  },
  {
   "cell_type": "code",
   "execution_count": 55,
   "metadata": {},
   "outputs": [
    {
     "data": {
      "text/plain": [
       "55"
      ]
     },
     "execution_count": 55,
     "metadata": {},
     "output_type": "execute_result"
    }
   ],
   "source": [
    "fib(10)"
   ]
  },
  {
   "cell_type": "code",
   "execution_count": 57,
   "metadata": {},
   "outputs": [],
   "source": [
    "@lru_cache(maxsize=8)\n",
    "def fib(n):\n",
    "    print(f'Calculating fib({n})')\n",
    "    return 1 if n < 3 else fib(n - 1) + fib(n - 2)"
   ]
  },
  {
   "cell_type": "code",
   "execution_count": 58,
   "metadata": {},
   "outputs": [
    {
     "name": "stdout",
     "output_type": "stream",
     "text": [
      "Calculating fib(8)\n",
      "Calculating fib(7)\n",
      "Calculating fib(6)\n",
      "Calculating fib(5)\n",
      "Calculating fib(4)\n",
      "Calculating fib(3)\n",
      "Calculating fib(2)\n",
      "Calculating fib(1)\n"
     ]
    },
    {
     "data": {
      "text/plain": [
       "21"
      ]
     },
     "execution_count": 58,
     "metadata": {},
     "output_type": "execute_result"
    }
   ],
   "source": [
    "fib(8)"
   ]
  },
  {
   "cell_type": "code",
   "execution_count": 62,
   "metadata": {},
   "outputs": [
    {
     "name": "stdout",
     "output_type": "stream",
     "text": [
      "Calculating fib(8)\n",
      "Calculating fib(7)\n",
      "Calculating fib(6)\n",
      "Calculating fib(5)\n",
      "Calculating fib(4)\n",
      "Calculating fib(3)\n",
      "Calculating fib(2)\n",
      "Calculating fib(1)\n"
     ]
    },
    {
     "data": {
      "text/plain": [
       "21"
      ]
     },
     "execution_count": 62,
     "metadata": {},
     "output_type": "execute_result"
    }
   ],
   "source": [
    "fib(8)"
   ]
  },
  {
   "cell_type": "code",
   "execution_count": 67,
   "metadata": {},
   "outputs": [
    {
     "data": {
      "text/plain": [
       "34"
      ]
     },
     "execution_count": 67,
     "metadata": {},
     "output_type": "execute_result"
    }
   ],
   "source": [
    "fib(9)"
   ]
  },
  {
   "cell_type": "code",
   "execution_count": 68,
   "metadata": {},
   "outputs": [
    {
     "data": {
      "text/plain": [
       "21"
      ]
     },
     "execution_count": 68,
     "metadata": {},
     "output_type": "execute_result"
    }
   ],
   "source": [
    "fib(8)"
   ]
  },
  {
   "cell_type": "code",
   "execution_count": 69,
   "metadata": {},
   "outputs": [
    {
     "name": "stdout",
     "output_type": "stream",
     "text": [
      "Calculating fib(16)\n",
      "Calculating fib(15)\n",
      "Calculating fib(14)\n",
      "Calculating fib(13)\n",
      "Calculating fib(12)\n",
      "Calculating fib(11)\n",
      "Calculating fib(10)\n"
     ]
    },
    {
     "data": {
      "text/plain": [
       "987"
      ]
     },
     "execution_count": 69,
     "metadata": {},
     "output_type": "execute_result"
    }
   ],
   "source": [
    "fib(16)"
   ]
  },
  {
   "cell_type": "code",
   "execution_count": 70,
   "metadata": {},
   "outputs": [
    {
     "name": "stdout",
     "output_type": "stream",
     "text": [
      "Calculating fib(8)\n",
      "Calculating fib(7)\n",
      "Calculating fib(6)\n",
      "Calculating fib(5)\n",
      "Calculating fib(4)\n",
      "Calculating fib(3)\n",
      "Calculating fib(2)\n",
      "Calculating fib(1)\n"
     ]
    },
    {
     "data": {
      "text/plain": [
       "21"
      ]
     },
     "execution_count": 70,
     "metadata": {},
     "output_type": "execute_result"
    }
   ],
   "source": [
    "fib(8)"
   ]
  },
  {
   "cell_type": "code",
   "execution_count": null,
   "metadata": {},
   "outputs": [],
   "source": []
  }
 ],
 "metadata": {
  "kernelspec": {
   "display_name": "Python 3",
   "language": "python",
   "name": "python3"
  },
  "language_info": {
   "codemirror_mode": {
    "name": "ipython",
    "version": 3
   },
   "file_extension": ".py",
   "mimetype": "text/x-python",
   "name": "python",
   "nbconvert_exporter": "python",
   "pygments_lexer": "ipython3",
   "version": "3.12.4"
  }
 },
 "nbformat": 4,
 "nbformat_minor": 2
}
